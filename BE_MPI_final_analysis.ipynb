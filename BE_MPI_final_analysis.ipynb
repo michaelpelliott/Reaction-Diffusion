{
 "cells": [
  {
   "cell_type": "markdown",
   "metadata": {},
   "source": [
    "<hr style=\"border-width:4px;border-color:cyan\" />\n",
    "<hr style=\"border-width:2px;border-color:black\" />\n",
    "\n",
    "# Backward Euler with MPI\n",
    "## ME471, Spring 2020, Final Project\n",
    "### by Michael Elliott\n",
    "\n",
    "<hr style=\"border-width:2px;border-color:black\" />\n",
    "<hr style=\"border-width:4px;border-color:cyan\" />\n",
    "<hr style=\"border-width:2px;border-color:black\" />\n",
    "\n",
    "    I was running this on Redhawk, but the nodes were limiting the number of CPUs that I could use and the cross node communication was doubling the time required to operate the same problem. I tested this situation by running the spots setup on 1 node, 4 processors on a 128 x 128 grid, and identical setup on 2 nodes. The 1 node version ran in 1 minute 28.4 seconds, while the 2 node version took slightly longer than 3 minutes 17 seconds. So I abandoned Redhawk for our trusty Virtual Machine, and this notebook will only cover results ran on the VM.\n",
    "    A keen eye will notice that I'm hard coding in timing values for the arrays. This is not because I'm \"just guessing the time\" that these would take, rather I'm stuck hard coding it because the run took so long (~ 5 hours) and at 2 in the morning I didn't know exactly how to turn arrays into files to retain. I was anticipating that the VM would kick me off if my computer went to sleep so I took a screen shot of the timing results and hard coded it on my local machine. Not optimal use of technology but a broken clock is still right twice a day.\n",
    "    \n",
    "<hr style=\"border-width:2px;border-color:black\" />\n",
    "<hr style=\"border-width:4px;border-color:cyan\" />"
   ]
  },
  {
   "cell_type": "markdown",
   "metadata": {},
   "source": [
    "<hr style=\"border-width:4px;border-color:cyan\" />\n",
    "<hr style=\"border-width:2px;border-color:black\" />\n",
    "\n",
    "## Setup of Program and Data\n",
    "\n",
    "    I ran this parallel backward Euler solver with the input setup for spots (from the homework 4 specifications) across square global grids of side lengths: 32, 64, 128, 256, and 512. These side lengths correspond to p values in the data (as in 2^p = N; p = 5 -> N = 32). It was ran using across a range of processors: 1, 2, 4, 8, and 16.\n",
    "    \n",
    "<hr style=\"border-width:2px;border-color:black\" />\n",
    "<hr style=\"border-width:4px;border-color:cyan\" />"
   ]
  },
  {
   "cell_type": "code",
   "execution_count": 1,
   "metadata": {},
   "outputs": [
    {
     "name": "stdout",
     "output_type": "stream",
     "text": [
      "Using matplotlib backend: nbAgg\n",
      "Populating the interactive namespace from numpy and matplotlib\n"
     ]
    }
   ],
   "source": [
    "import matplotlib.pyplot\n",
    "import scipy\n",
    "import time, os\n",
    "%matplotlib notebook\n",
    "%pylab"
   ]
  },
  {
   "cell_type": "code",
   "execution_count": 2,
   "metadata": {},
   "outputs": [],
   "source": [
    "# array setup section\n",
    "\n",
    "#time_1proc[0] corresponds to 1 processor, p = 5\n",
    "#time_1proc[1] corresponds to 1 processor, p = 6\n",
    "#time_2proc[1] corresponds to 2 processors, p = 6\n",
    "time_1proc = [2.45001602055,18.906493884,148.343905799,991.132974659,7628.0181528739]\n",
    "time_2proc = [1.90655736811,10.254397049,79.552227533,471.779030761,3505.6236737109]\n",
    "time_4proc = [2.49563256209,7.02648843382,40.542972475989,260.38621809,1764.485852355]\n",
    "time_8proc = [2.17091187695,5.56852644495,19.158029562095,136.337621417,1020.692787826]\n",
    "time_16proc = [3.0827721408,7.17792607215,13.148246705997,80.8943768569,621.719308567]\n",
    "\n",
    "#p5_time[0] corresponds to timing results on 1 proc, p = 5 size grid\n",
    "#p5_time[1] corresponds to timing results on 2 proc, p = 5 size grid\n",
    "#pX_time's are strong scaling\n",
    "p5_time = [2.450016102055,1.906557368114,2.49563256,2.17091187695,3.08277214086]\n",
    "p6_time = [18.90649388405,10.25439704908,7.0264884338,5.568526444,7.17792607215]\n",
    "p7_time = [148.343905799,79.5522275329,40.5429724759,19.158029562,13.14824670599]\n",
    "p8_time = [991.1312974659,471.77903076,260.3862180931,136.337621416,80.894376857]\n",
    "p9_time = [7628.018152873,3505.6236737109,1764.48585235,1020.692787826,621.719308567]\n",
    "\n",
    "#weak_scale_time[0]: p5, 1 proc; [1]: p6, 2 proc; [2]: p7, 4 proc; [3]: p8, 8 procs; [4] p9, 16 procs\n",
    "weak_scale_time = [time_1proc[0],time_2proc[1],time_4proc[2],time_8proc[3],time_16proc[4]]\n",
    "plist = arange(5,10)\n",
    "numproc = 2**arange(0,5)\n",
    "\n",
    "#time_results is a linear version of the above information\n",
    "time_results = []\n",
    "for i in range(len(numproc)):\n",
    "    time_results.append(time_1proc[i])\n",
    "for i in range(len(numproc)):\n",
    "    time_results.append(time_2proc[i])\n",
    "for i in range(len(numproc)):\n",
    "    time_results.append(time_4proc[i])\n",
    "for i in range(len(numproc)):\n",
    "    time_results.append(time_8proc[i])\n",
    "for i in range(len(numproc)):\n",
    "    time_results.append(time_16proc[i])"
   ]
  },
  {
   "cell_type": "code",
   "execution_count": 3,
   "metadata": {},
   "outputs": [],
   "source": [
    "def fix_xticks(procs):\n",
    "    p0 = log2(procs[0])\n",
    "    p1 = log2(procs[-1])\n",
    "    xlim([2**(p0-0.5), 2**(p1+0.5)])\n",
    "\n",
    "    \n",
    "    # Make nice tick marks\n",
    "    pstr = (['{:d}'.format(int(p)) for p in procs])\n",
    "    xticks(procs,pstr)\n",
    "\n",
    "# does every other, for large processor setups\n",
    "def fix_2xticks(procs):\n",
    "    p0 = log2(procs[0])\n",
    "    p1 = log2(procs[-1])\n",
    "    xlim([2**(p0-0.5), 2**(p1+0.5)])\n",
    "    numList = []\n",
    "    i=0\n",
    "    for p in procs:\n",
    "        if (i%2 == 0):\n",
    "            numList.append(p)\n",
    "        i+=1\n",
    "    pstr = (['{:d}'.format(int(n)) for n in numList])\n",
    "    \n",
    "    #xticks(procs,pstr)\n",
    "    xticks(numList,pstr)"
   ]
  },
  {
   "cell_type": "markdown",
   "metadata": {},
   "source": [
    "<hr style=\"border-width:4px;border-color:cyan\" />\n",
    "<hr style=\"border-width:2px;border-color:black\" />\n",
    "\n",
    "### Serial Behavior\n",
    "\n",
    "    To run the code in serial, I still used MPI, but left the number of processors at 1. We see the expected relationship for the serial timings in the figure below.\n",
    "\n",
    "<hr style=\"border-width:2px;border-color:black\" />\n",
    "<hr style=\"border-width:4px;border-color:cyan\" />"
   ]
  },
  {
   "cell_type": "code",
   "execution_count": 4,
   "metadata": {},
   "outputs": [
    {
     "data": {
      "text/plain": [
       "([<matplotlib.axis.XTick at 0x11eb4ad10>,\n",
       "  <matplotlib.axis.XTick at 0x11f498b10>,\n",
       "  <matplotlib.axis.XTick at 0x110685cd0>,\n",
       "  <matplotlib.axis.XTick at 0x11fbe66d0>,\n",
       "  <matplotlib.axis.XTick at 0x11fbe6c50>],\n",
       " <a list of 5 Text xticklabel objects>)"
      ]
     },
     "execution_count": 4,
     "metadata": {},
     "output_type": "execute_result"
    },
    {
     "data": {
      "image/png": "[encoded data removed]",
      "text/plain": [
       "<Figure size 432x288 with 1 Axes>"
      ]
     },
     "metadata": {
      "needs_background": "light"
     },
     "output_type": "display_data"
    }
   ],
   "source": [
    "numproc = 2**arange(0,5)\n",
    "line = arange(0,10,2)\n",
    "m,b= polyfit(numproc,weak_scale_time,1)\n",
    "figure(1)\n",
    "clf()\n",
    "ylabel(\"Time (s)\")\n",
    "xlabel(\"p, for 2^p = grid side length\")\n",
    "title(\"Serial BE Scaling\")\n",
    "loglog(plist, time_1proc,'ko:', markersize=12)\n",
    "xticks(plist,[5,6,7,8,9])"
   ]
  },
  {
   "cell_type": "markdown",
   "metadata": {},
   "source": [
    "<hr style=\"border-width:4px;border-color:cyan\" />\n",
    "<hr style=\"border-width:2px;border-color:black\" />\n",
    "\n",
    "### Weak Scaling\n",
    "\n",
    "    We see in the weak scaling plot below that the parallel BE shows poor weak scaling. As we increase p and the number of processors together it scales just like the serial code, but with a little less of a slope. A quick estimation is a net time saving of about a factor of 10 for the parallel weak scaling over the serial code. Ideally, that black dotted line would be flat, showing that the time remains constant as we increase p and the number of processors each step. Why would this behavior happen for parallel BE? It could be my algorithm has some communication issues or inefficiencies, but I'm not sure. It's possible that the number of calculations required for a matrix, by the parallel BE algorithm, has an associated constant factor. As we increase the matrix size, this factor grows causing the calculation time to increase at aconstant rate for BE.\n",
    "\n",
    "<hr style=\"border-width:2px;border-color:black\" />\n",
    "<hr style=\"border-width:4px;border-color:cyan\" />"
   ]
  },
  {
   "cell_type": "code",
   "execution_count": 5,
   "metadata": {},
   "outputs": [
    {
     "data": {
      "image/png": "[encoded data removed]",
      "text/plain": [
       "<Figure size 432x288 with 1 Axes>"
      ]
     },
     "metadata": {
      "needs_background": "light"
     },
     "output_type": "display_data"
    }
   ],
   "source": [
    "numproc = 2**arange(0,5)\n",
    "line = arange(0,10,2)\n",
    "figure(2)\n",
    "clf()\n",
    "ylabel(\"Time (s)\")\n",
    "xlabel(\"Number of Processors\")\n",
    "title(\"Parallel BE Weak Scaling\")\n",
    "loglog(numproc,weak_scale_time,'ko:', markersize=12)\n",
    "fix_xticks(numproc)"
   ]
  },
  {
   "cell_type": "markdown",
   "metadata": {},
   "source": [
    "<hr style=\"border-width:4px;border-color:cyan\" />\n",
    "<hr style=\"border-width:2px;border-color:black\" />\n",
    "\n",
    "### Strong Scaling\n",
    "\n",
    "We see in the strong scaling plot below that the parallel BE shows very good strong scaling for the larger grid sizes. A linear best fit line shows slopes of -44 for p = 8, and -338 for p = 9 which is reflected in the significant time improvements for p = 8 and p = 9 grids. For smaller grid sizes, the scaling is much flatter. I'm assuming that this is related to the simplicity of a 32 x 32 grid for this problem. A small grid would require lots of processor communication with few calculations thus not maximizing time actually on the processor.\n",
    "\n",
    "<hr style=\"border-width:2px;border-color:black\" />\n",
    "<hr style=\"border-width:4px;border-color:cyan\" />"
   ]
  },
  {
   "cell_type": "code",
   "execution_count": 6,
   "metadata": {},
   "outputs": [
    {
     "name": "stdout",
     "output_type": "stream",
     "text": [
      "m = -338.31 for linear best fit, p = 9\n"
     ]
    },
    {
     "data": {
      "image/png": "[encoded data removed]",
      "text/plain": [
       "<Figure size 432x288 with 1 Axes>"
      ]
     },
     "metadata": {
      "needs_background": "light"
     },
     "output_type": "display_data"
    }
   ],
   "source": [
    "numproc = 2**arange(0,5)\n",
    "line = arange(0,10,2)\n",
    "m,b= polyfit(numproc,p9_time,1)\n",
    "figure(3)\n",
    "clf()\n",
    "#ylim((1,5))\n",
    "ylabel(\"Time (s)\")\n",
    "xlabel(\"Number of Processors\")\n",
    "title(\"Parallel BE Strong Scaling, MPI\")\n",
    "#loglog(numproc,(m*numproc+b),label = \"Best fit line, p = 9, m: %0.3f\"%m)\n",
    "#loglog(numproc, p5_time,'ko:', markersize=8, label=\"p = 5\")\n",
    "#loglog(numproc, p6_time,'ro:', markersize=8, label=\"p = 6\")\n",
    "loglog(numproc, p7_time,'bo:', markersize=8, label=\"p = 7\")\n",
    "loglog(numproc, p8_time,'co:', markersize=8, label=\"p = 8\")\n",
    "loglog(numproc, p9_time,'go:', markersize=8, label=\"p = 9\")\n",
    "legend()\n",
    "fix_xticks(numproc)\n",
    "print(\"m = %0.2f for linear best fit, p = 9\"%m)"
   ]
  },
  {
   "cell_type": "markdown",
   "metadata": {},
   "source": [
    "<hr style=\"border-width:4px;border-color:cyan\" />\n",
    "<hr style=\"border-width:2px;border-color:black\" />\n",
    "\n",
    "### Efficiency\n",
    "\n",
    "Even at the highest grid size, 512 x 512, we see incredible efficiency for this algorithm and calculation. As we've mentioned before, the Virtual Machine's parallel behavior is unknown/inconsistant around 16 processors. Even with the possible threading behavior at 16 processors we see an efficiency of near 80% which is very good. For 2 processors and 4 processors we even see an efficiency over 100%, with 8 processors coming in above 90% as well. All in all, I think this implicit scheme seems well suited to \"strong parallelization\", but for large matrices, the weak scaling may dictate that a different algorithm should be sought.\n",
    "\n",
    "<hr style=\"border-width:2px;border-color:black\" />\n",
    "<hr style=\"border-width:4px;border-color:cyan\" />"
   ]
  },
  {
   "cell_type": "code",
   "execution_count": 7,
   "metadata": {},
   "outputs": [],
   "source": [
    "pAdj = 4 # pAdj=0 -> p = 5; pAdj=1 -> p = 6; pAdj=2 -> p = 7; pAdj=3 -> p = 8; pAdj=4 -> p = 9\n",
    "speed_up = []\n",
    "for i in range(len(numproc)): \n",
    "    speed_up.append(time_results[pAdj]/time_results[pAdj+i*len(numproc)])\n",
    "efficiency = []\n",
    "for i in range(len(numproc)):\n",
    "    efficiency.append(100*speed_up[i]/numproc[i])"
   ]
  },
  {
   "cell_type": "code",
   "execution_count": 8,
   "metadata": {},
   "outputs": [
    {
     "data": {
      "image/png": "[encoded data removed]",
      "text/plain": [
       "<Figure size 432x288 with 1 Axes>"
      ]
     },
     "metadata": {
      "needs_background": "light"
     },
     "output_type": "display_data"
    }
   ],
   "source": [
    "figure(4)\n",
    "clf()\n",
    "title(\"Parallel BE Efficiency, MPI, 512 grid\")\n",
    "hundred = [100,100,100,100,100]\n",
    "eighty = [80,80,80,80,80]\n",
    "\n",
    "semilogx(numproc,hundred,'k.-',markersize=15,linewidth=2,label='Theoretical efficiency')\n",
    "\n",
    "semilogx(numproc,efficiency,'.-',color='b',markersize=15,label='Computed efficiency')\n",
    "\n",
    "\n",
    "# Let's also add a line indicating \"good\" efficiency.\n",
    "semilogx(numproc,eighty,'r--',markersize=15,linewidth=2,label='80% Efficiency')\n",
    "# Add a best-fit line through first few cores.\n",
    "t_eff = efficiency\n",
    "\n",
    "# Fit line through all 16 cores\n",
    "proc_max = 16    # number of processors on VM, supposedly\n",
    "imax = int(log2(proc_max))+1 \n",
    "c = polyfit(log(numproc[:imax]),t_eff[:imax],1)\n",
    "semilogx(numproc,polyval(c,log(numproc)),'k-', \\\n",
    "         label='{:d} cores (slope={:6.2f})'.format(proc_max,c[0]),linewidth=1)\n",
    "\n",
    "\n",
    "fix_xticks(numproc)\n",
    "ylim(50,120)\n",
    "xlabel('Processors',fontsize=16)\n",
    "ylabel('Efficiency (%)',fontsize=16)\n",
    "legend(loc=3)\n",
    "grid()"
   ]
  },
  {
   "cell_type": "code",
   "execution_count": 13,
   "metadata": {},
   "outputs": [
    {
     "data": {
      "text/plain": [
       "<Figure size 432x288 with 0 Axes>"
      ]
     },
     "metadata": {},
     "output_type": "display_data"
    },
    {
     "data": {
      "text/plain": [
       "<Figure size 432x288 with 0 Axes>"
      ]
     },
     "metadata": {},
     "output_type": "display_data"
    },
    {
     "data": {
      "text/plain": [
       "<Figure size 432x288 with 0 Axes>"
      ]
     },
     "metadata": {},
     "output_type": "display_data"
    },
    {
     "data": {
      "text/plain": [
       "<Figure size 432x288 with 0 Axes>"
      ]
     },
     "metadata": {},
     "output_type": "display_data"
    }
   ],
   "source": [
    "figure(1)\n",
    "savefig('serial.png', facecolor=None, edgecolor=None,\n",
    "        format='png',transparent=False, bbox_inches='tight', pad_inches=0.1,metadata=None)\n",
    "\n",
    "figure(2)\n",
    "savefig('weakScaling.png', facecolor=None, edgecolor=None,\n",
    "        format='png',transparent=False, bbox_inches='tight', pad_inches=0.1,metadata=None)\n",
    "\n",
    "figure(3)\n",
    "savefig('strongScaling.png', facecolor=None, edgecolor=None,\n",
    "        format='png',transparent=False, bbox_inches='tight', pad_inches=0.1,metadata=None)\n",
    "\n",
    "figure(4)\n",
    "savefig('efficiency.png', facecolor=None, edgecolor=None,\n",
    "        format='png',transparent=False, bbox_inches='tight', pad_inches=0.1,metadata=None)"
   ]
  },
  {
   "cell_type": "markdown",
   "metadata": {},
   "source": [
    "<hr style=\"border-width:4px;border-color:cyan\" />\n",
    "<hr style=\"border-width:2px;border-color:black\" />\n",
    "\n",
    "## Visuals\n",
    "\n",
    "<hr style=\"border-width:3px;border-color:cyan\" />\n",
    "<hr style=\"border-width:2px;border-color:black\" />\n",
    "<hr style=\"border-width:3px;border-color:cyan\" />\n",
    "\n",
    "#### Spots 256 grid \n",
    "![](spots8.gif)\n",
    "\n",
    "<hr style=\"border-width:3px;border-color:cyan\" />\n",
    "<hr style=\"border-width:2px;border-color:black\" />\n",
    "<hr style=\"border-width:3px;border-color:cyan\" />\n",
    "\n",
    "#### Stripes 512 grid\n",
    "\n",
    "![](3proc512_8_stripes_long.gif)\n",
    "\n",
    "<hr style=\"border-width:3px;border-color:cyan\" />\n",
    "<hr style=\"border-width:2px;border-color:black\" />\n",
    "<hr style=\"border-width:3px;border-color:cyan\" />\n",
    "\n",
    "#### In Between Conditions 256 grid\n",
    "\n",
    "![](128_8_in4Between.gif)\n",
    "\n",
    "<hr style=\"border-width:3px;border-color:cyan\" />\n",
    "<hr style=\"border-width:2px;border-color:black\" />\n",
    "<hr style=\"border-width:3px;border-color:cyan\" />\n",
    "\n",
    "![](128_8_inBetween.gif)\n",
    "\n",
    "<hr style=\"border-width:3px;border-color:cyan\" />\n",
    "<hr style=\"border-width:2px;border-color:black\" />\n",
    "<hr style=\"border-width:3px;border-color:cyan\" />\n",
    "\n",
    "![](128_8_in2Between.gif)\n",
    "\n",
    "<hr style=\"border-width:4px;border-color:cyan\" />\n",
    "<hr style=\"border-width:2px;border-color:black\" />"
   ]
  }
 ],
 "metadata": {
  "kernelspec": {
   "display_name": "Python 3",
   "language": "python",
   "name": "python3"
  },
  "language_info": {
   "codemirror_mode": {
    "name": "ipython",
    "version": 3
   },
   "file_extension": ".py",
   "mimetype": "text/x-python",
   "name": "python",
   "nbconvert_exporter": "python",
   "pygments_lexer": "ipython3",
   "version": "3.7.4"
  }
 },
 "nbformat": 4,
 "nbformat_minor": 2
}
